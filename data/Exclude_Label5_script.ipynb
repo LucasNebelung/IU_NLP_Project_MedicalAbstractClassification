{
 "cells": [
  {
   "cell_type": "code",
   "execution_count": 4,
   "metadata": {},
   "outputs": [
    {
     "name": "stdout",
     "output_type": "stream",
     "text": [
      "Wrote:\n",
      "/teamspace/studios/this_studio/data/data_excluding_5/medical_tc_train_raw_excl_5.csv\n",
      "/teamspace/studios/this_studio/data/data_excluding_5/medical_tc_test_raw_excl_5.csv\n"
     ]
    }
   ],
   "source": [
    "from datasets import load_dataset\n",
    "from pathlib import Path\n",
    "\n",
    "#######################\n",
    "### Preprocess Data\n",
    "### 1. remove \"general condition label\" (=5) 2. Export CSV \n",
    "\n",
    "# 1) Load\n",
    "ds = load_dataset(\"csv\", data_files={\n",
    "    \"train\": \"/teamspace/studios/this_studio/data/raw/medical_tc_train_raw.csv\",\n",
    "    \"test\":  \"/teamspace/studios/this_studio/data/raw/medical_tc_test_raw.csv\",\n",
    "})\n",
    "\n",
    "# 2) Remove \"general pathological condition\" (label == 5 in the corpus)\n",
    "ds = ds.filter(lambda x: int(x[\"condition_label\"]) != 5)\n",
    "\n",
    "\n",
    "OUT = Path(\"/teamspace/studios/this_studio/data/data_excluding_5\")\n",
    "OUT.mkdir(parents=True, exist_ok=True)\n",
    "\n",
    "cols_keep = [\"medical_abstract\", \"condition_label\"]  # keep both raw + remapped label\n",
    "\n",
    "ds[\"train\"].select_columns(cols_keep).to_pandas().to_csv(OUT / \"medical_tc_train_raw_excl_5.csv\", index=False)\n",
    "ds[\"test\"].select_columns(cols_keep).to_pandas().to_csv(OUT / \"medical_tc_test_raw_excl_5.csv\", index=False)\n",
    "\n",
    "print(\"Wrote:\",\n",
    "      OUT / \"medical_tc_train_raw_excl_5.csv\",\n",
    "      OUT / \"medical_tc_test_raw_excl_5.csv\", sep=\"\\n\")"
   ]
  }
 ],
 "metadata": {
  "language_info": {
   "name": "python"
  }
 },
 "nbformat": 4,
 "nbformat_minor": 2
}
